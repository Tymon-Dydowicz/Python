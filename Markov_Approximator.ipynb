{
  "nbformat": 4,
  "nbformat_minor": 0,
  "metadata": {
    "colab": {
      "provenance": [],
      "collapsed_sections": []
    },
    "kernelspec": {
      "name": "python3",
      "display_name": "Python 3"
    },
    "language_info": {
      "name": "python"
    }
  },
  "cells": [
    {
      "cell_type": "code",
      "source": [
        "import random\n",
        "import statistics as st\n",
        "random.seed(151936)\n",
        "\n",
        "def avrgLength(text):\n",
        "  return st.mean([len(i) for i in text.split(' ')])"
      ],
      "metadata": {
        "id": "rTQetZmXqUu_"
      },
      "execution_count": 1,
      "outputs": []
    },
    {
      "cell_type": "code",
      "source": [
        "def zeroOrder(length, start = \"\"):\n",
        "  output = start\n",
        "  alphabet = [chr(97 + i) for i in range(26)] + [' ']\n",
        "  for _ in range(length - len(start)):\n",
        "    output += random.choices(alphabet)[0]\n",
        "  print(output)\n",
        "  print(\"The average length of the word is: \", avrgLength(output))\n",
        "\n",
        "zeroOrder(100)"
      ],
      "metadata": {
        "colab": {
          "base_uri": "https://localhost:8080/"
        },
        "id": "20ro9nztpGqn",
        "outputId": "f050443d-9b90-45eb-e037-f8a8810e155b"
      },
      "execution_count": 2,
      "outputs": [
        {
          "output_type": "stream",
          "name": "stdout",
          "text": [
            "rlbexcfdyiqnnqhtobi qdblcrpqvt parldhupz dzzohobsouxuiyujsqdiyhgxlnandfwrkrjglqcxxqdtuoyszfzmetppsaw\n",
            "The average length of the word is:  24.25\n"
          ]
        }
      ]
    },
    {
      "cell_type": "code",
      "source": [
        "def firstOrder(text, length, start = \"\"):\n",
        "  line = open(text, \"r\").read()\n",
        "  output = start\n",
        "  pool = {}\n",
        "  for i in range(len(line)):\n",
        "    if line[i] not in pool:\n",
        "      pool[line[i]] = 1/len(line)\n",
        "    else:\n",
        "      pool[line[i]] += 1/len(line)\n",
        "  while len(output) < length:\n",
        "    output += random.choices(list(pool.keys()), list(pool.values()))[0]\n",
        "  print(pool)\n",
        "  print(output)\n",
        "  print(\"The average length of the word is: \", avrgLength(output))\n",
        "\n",
        "firstOrder(\"norm_hamlet.txt\", 200)"
      ],
      "metadata": {
        "colab": {
          "base_uri": "https://localhost:8080/"
        },
        "id": "aj6ShKVFq7kP",
        "outputId": "a3d04b6b-a853-4abe-c3df-720e56d63aae"
      },
      "execution_count": 3,
      "outputs": [
        {
          "output_type": "stream",
          "name": "stdout",
          "text": [
            "{'t': 0.07469593891666482, 'h': 0.051474436170820516, 'e': 0.09329583929684535, ' ': 0.2006204170161416, 'r': 0.04725635706764951, 'a': 0.060030390345712975, 'g': 0.01429985561433284, 'd': 0.03190355794026326, 'y': 0.020106807563538526, 'o': 0.0683845828893561, 'f': 0.017162348757589683, 'm': 0.0244635977881866, 'l': 0.03546591174189498, 'p': 0.011683259459152742, 'i': 0.05293720799733124, 'n': 0.0514239957630098, 'c': 0.01654445376190877, 'k': 0.007345384387432546, 'b': 0.011317566502525161, 'w': 0.019438472160046925, 's': 0.05257151504070356, 'u': 0.026676670680880483, 'v': 0.007685857140154729, 'q': 0.000914232391568887, 'z': 0.000504404078106972, 'x': 0.0010970788698826644, 'j': 0.0006998606583734238}\n",
            "aew ftee ecprordsdrhtealeahewraosheploor otoi i  o hba    uu httv agttnapaeilo ohetahr   wenighif rtrtrmnenpnetwt  hs  eehy sdreohsltwhr e etadnei s  haio feni tensisstyptitvyato nrvt iso oos eediiten\n",
            "The average length of the word is:  4.742857142857143\n"
          ]
        }
      ]
    },
    {
      "cell_type": "code",
      "execution_count": 4,
      "metadata": {
        "colab": {
          "base_uri": "https://localhost:8080/"
        },
        "id": "Fl1r-BNjSfpN",
        "outputId": "bbf4ed41-8e20-4a1d-8c35-1910f8639b9e"
      },
      "outputs": [
        {
          "output_type": "stream",
          "name": "stdout",
          "text": [
            "ioppuey paghof ay s ald f nst panorube byulld qulict s cr shed toreaarsthens ocen siomevzvalucapls y\n",
            "The average length of the word is:  4.9411764705882355\n",
            "ight recordedican and spack the prot s proving stadial ably king the who was an part of guary to gui\n",
            "The average length of the word is:  4.05\n",
            "probability lineage or the movie was secondary amp made by the cases with the opened by may tex sche\n",
            "The average length of the word is:  4.315789473684211\n"
          ]
        }
      ],
      "source": [
        "def performOrder(text, order, start = ''):\n",
        "  line = open(text, \"r\").read()\n",
        "  pool = {}\n",
        "  output = start\n",
        "  if order == 0:\n",
        "    for i in range(len(line)):\n",
        "      if line[i] not in pool:\n",
        "        pool[line[i]] = 1\n",
        "      else:\n",
        "        pool[line[i]] += 1\n",
        "  else:\n",
        "    for i in range(len(line) - order):\n",
        "      searched = output[-order:]\n",
        "      if line[i : i + order] == searched:\n",
        "        if line[i + order] not in pool:\n",
        "          pool[line[i + order]] = 1\n",
        "        else:\n",
        "          pool[line[i + order]] += 1\n",
        "  output += random.choices(list(pool.keys()), list(pool.values()))[0]\n",
        "  return output\n",
        "\n",
        "\n",
        "def markovSource(text, length, order = 0, start = \"\"):\n",
        "  line = open(text, \"r\").read()\n",
        "  line = ''.join([i for i in line if not i.isdigit()])\n",
        "  line = line.replace(\"  \", \" \")\n",
        "  output = start\n",
        "  for i in range(order - len(start)):\n",
        "    output = performOrder(text, i, output)\n",
        "  while len(output)< length:\n",
        "    pool = {}\n",
        "    for i in range(len(line) - order):\n",
        "      searched = output[-order:]\n",
        "      if line[i : i + order] == searched:\n",
        "        if line[i + order] not in pool:\n",
        "          pool[line[i + order]] = 1\n",
        "        else:\n",
        "          pool[line[i + order]] += 1\n",
        "    output += random.choices(list(pool.keys()), list(pool.values()))[0]\n",
        "  print(output)\n",
        "  print(\"The average length of the word is: \", avrgLength(output))\n",
        "\n",
        "\n",
        "\n",
        "markovSource(\"norm_wiki_sample.txt\", 100, 1)\n",
        "markovSource(\"norm_wiki_sample.txt\", 100, 3)\n",
        "markovSource(\"norm_wiki_sample.txt\", 100, 5, \"probability\")\n",
        "# FIRST RUN RESULTED IN THESE SENTENCES\n",
        "# ily ser th colanoncof tocan erg thas al tipinndethed f jord sintinencchry vesif ederchan wont pigy r\n",
        "# y and had to may was as at threen ause ords of a but door and goalso mossers that was patribu amende\n",
        "# probability that gave throughness and s newspaper to the faculty of the known for a body aircraft ar"
      ]
    }
  ]
}